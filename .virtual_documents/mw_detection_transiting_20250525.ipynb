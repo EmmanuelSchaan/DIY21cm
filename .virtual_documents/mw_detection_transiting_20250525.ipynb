import diy21cm as d21
import os
from datetime import datetime
import json_io as json
import numpy as np, matplotlib.pyplot as plt
from matplotlib import cm
from matplotlib.colors import Normalize
# to generate gifs
import imageio


# Get default parameters
param = d21.getDefaultParams()


# Load all the exposures
pathOut = "./output/20250525"





def extract_time_from_filename(filename):
    try:
        timestamp_str = filename.split('_')[0] + '_' + filename.split('_')[1]
        timestamp = datetime.strptime(timestamp_str, '%Y%m%d_%Hh%Mm%Ss')
        return timestamp_str, timestamp.timestamp()
    except (IndexError, ValueError) as e:
        print(f"Skipping file {filename} due to invalid timestamp: {e}")
        return None, None

def load_exposure_outputs(path_out, keyword='exposure_on'):
    """
    Load JSON output files matching a given keyword (e.g., 'exposure_on', 'exposure_cold') 
    from a directory, excluding 'latest_exposure'.

    Args:
        path_out (str): Path to the directory containing the output files.
        keyword (str): Substring to match in filenames (default 'exposure_on').

    Returns:
        valid_filenames (np.array of str): Matching filenames with valid timestamps.
        timestamp_strings (np.array of str): Original timestamp strings from filenames.
        timestamps (np.array of float): Corresponding UNIX timestamps.
        output_files (np.array): Parsed JSON contents.
    """
    output_filenames = sorted([
        f for f in os.listdir(path_out)
        if f.endswith('.json') and keyword in f and 'latest_exposure' not in f
    ])

    valid_filenames = []
    timestamp_strings = []
    timestamps = []

    for fname in output_filenames:
        ts_str, ts_float = extract_time_from_filename(fname)
        if ts_float is not None:
            valid_filenames.append(fname)
            timestamp_strings.append(ts_str)
            timestamps.append(ts_float)

    output_files = [
        json.loadJson(os.path.join(path_out, fname))
        for fname in valid_filenames
    ]

    return np.array(valid_filenames), np.array(timestamp_strings), np.array(timestamps), np.array(output_files)


# Read all the exposures
expOnFileNames, expOnTimeStamps, expOnTimes, expOnFiles = load_exposure_outputs(pathOut, keyword='exposure_on')
expColdFileNames, expColdTimeStamps, expColdTimes, expColdFiles = load_exposure_outputs(pathOut, keyword='exposure_cold')
expHotFileNames, expHotTimeStamps, expHotTimes, expHotFiles = load_exposure_outputs(pathOut, keyword='exposure_hot')





expOnTimeStamps


expColdTimeStamps


expHotTimeStamps








expOnFile = expOnFiles[0]
expColdFile = expColdFiles[-1]
expHotFile = expHotFiles[-1]





expOnTimeStamps[0], expColdTimeStamps[-1], expHotTimeStamps[0]


fHot = expHotFile['fOn']
fOn = expOnFile['fOn']
fCold = expColdFile['fOn']

pHot = expHotFile['pOn']
pOn = expOnFile['pOn']
pCold = expColdFile['pOn']





FOn = [fHot, fOn, fCold]
POn = [pHot, pOn, pCold]
Labels= ['hot', 'on', 'cold']

fig, ax, ax2 = d21.plot(FOn, POn, Labels)





FOn = [fHot, fOn, fCold]
POn = [pHot * np.sum(pHot*pCold) / np.sum(pHot**2), 
       pOn * np.sum(pOn*pCold) / np.sum(pOn**2), 
       pCold]
Labels= ['hot rescaled', 'on rescaled', 'cold']

fig, ax, ax2 = d21.plot(FOn, POn, Labels)





FOn = [fHot, fOn, fCold]
POn = [pHot / pCold * np.sum(pHot*pCold) / np.sum(pHot**2), 
       pOn / pCold * np.sum(pOn*pCold) / np.sum(pOn**2), 
       np.ones_like(pCold)]
Labels= ['hot rescaled', 'on rescaled', 'cold']

fig, ax, ax2 = d21.plot(FOn, POn, Labels)





FOn = np.array([expOnFile['fOn'] for expOnFile in expOnFiles])
POn = np.array([expOnFile['pOn'] for expOnFile in expOnFiles])





print(expOnTimeStamps)
# exposure times in minutes from first one

expOnHours = (expOnTimes - expOnTimes[0]) / 3600.
print(expOnHours)





# Get the indices that would sort expOnHours
sort_indices = np.argsort(expOnHours)

# Apply the sorting to all arrays
FOn = FOn[sort_indices,:]
POn = POn[sort_indices,:]
expOnTimes = expOnTimes[sort_indices]
expOnTimeStamps = expOnTimeStamps[sort_indices]
expOnHours = expOnHours[sort_indices]


fig, ax, ax2 = d21.plot(FOn, POn)








iRefExp = -1


POnOverRef = POn / POn[iRefExp, :]

fig, ax, ax2 = d21.plot(FOn, POnOverRef)





ref = POn[iRefExp, :]  # reference row
dot_products = np.sum(POn * ref, axis=1)         # shape (N,)
row_norms_squared = np.sum(POn**2, axis=1)       # shape (N,)
scaling_factors = dot_products / row_norms_squared  # shape (N,)

POnOverRefRescaled = (POn / ref) * scaling_factors[:, None]

fig, ax, ax2 = d21.plot(FOn, POnOverRefRescaled)


plt.figure(figsize=(12, 6))

# Plot with freq on Y and exposure time on X
plt.imshow(POnOverRefRescaled.T, aspect='auto', origin='lower', cmap='viridis', interpolation='nearest',
           extent=[expOnHours[0], expOnHours[-1], FOn[0][0], FOn[0][-1]])

plt.axhline(d21.nu21cm, color='w', linestyle='--', linewidth=1)

plt.xlabel('Exposure time (hours since first exposure)')
plt.ylabel('Frequency (MHz)')
plt.title('Power vs Frequency and Exposure Time')
plt.colorbar(label='Power')

plt.show()





AmpOverRef = np.sum(POnOverRef, axis=-1) / np.sum(POnOverRef[iRefExp,:])


fig=plt.figure(0)
ax=fig.add_subplot(111)
#
ax.plot(expOnHours, AmpOverRef)

#
plt.show()





thresholdMax = 1.025
thresholdMin = 0.95
indices = np.where((AmpOverRef < thresholdMax) * (AmpOverRef > thresholdMin))[0]
print(indices)


POnOverRefRescaledMasked = POnOverRefRescaled[indices,:]
FOnMasked = FOn[indices,:]
expOnHoursMasked = expOnHours[indices]
AmpOverRefMasked = AmpOverRef[indices]


fig=plt.figure(0)
ax=fig.add_subplot(111)
#
ax.plot(expOnHoursMasked, AmpOverRefMasked)

#
plt.show()


fig, ax, ax2 = d21.plot(FOn[indices,:], POnOverRefRescaled[indices,:])





plt.figure(figsize=(12, 6))

# Plot with freq on Y and exposure time on X
plt.imshow(POnOverRefRescaled.T, aspect='auto', origin='lower', cmap='viridis', interpolation='nearest',
           extent=[expOnHours[0], expOnHours[-1], FOn[0][0], FOn[0][-1]])
plt.axhline(d21.nu21cm, color='w', linestyle='--', linewidth=1)

plt.xlabel('Exposure time (hours since first exposure)')
plt.ylabel('Frequency (MHz)')
plt.title('Power vs Frequency and Exposure Time')
plt.colorbar(label='Power')

plt.show()





plt.figure(figsize=(12, 6))

# Plot with freq on Y and exposure time on X
plt.imshow(POnOverRefRescaledMasked.T, aspect='auto', origin='lower', cmap='viridis', interpolation='nearest',
           extent=[expOnHoursMasked[0], expOnHoursMasked[-1], FOnMasked[0][0], FOnMasked[0][-1]])
plt.axhline(d21.nu21cm, color='w', linestyle='--', linewidth=1)

plt.xlabel('Exposure time (hours since first exposure)')
plt.ylabel('Frequency (MHz)')
plt.title('Power vs Frequency and Exposure Time')
plt.colorbar(label='Power')

plt.show()














# Function to generate individual plots
def generate_plots(FOn, POn, output_dir="temp_plots"):
    if not os.path.exists(output_dir):
        os.makedirs(output_dir)
    
    # List to store file names of each generated plot
    plot_files = []
    
    # Loop through the data and create a plot for each element
    for i, (f, p) in enumerate(zip(FOn, POn)):
        fig, ax, ax2 = d21.plot(f, p)
        ax.set_title(f"Plot {i+1}")
        ax.set_ylim(0.94, 1.1)
        
        # Save the plot as an image
        plot_file = os.path.join(output_dir, f"plot_{i+1}.png")
        plt.savefig(plot_file)
        plot_files.append(plot_file)
        plt.close(fig)  # Close the figure to free up memory
    
    return plot_files

# Function to create a GIF from the saved plot images
def create_gif(plot_files, gif_name="output.gif", duration=0.5):
    with imageio.get_writer(gif_name, mode='I', duration=duration) as writer:
        for plot_file in plot_files:
            image = imageio.imread(plot_file)
            writer.append_data(image)
    
    # Optionally: Clean up the temporary images
#    for plot_file in plot_files:
#        os.remove(plot_file)


# Generate plots and create a GIF
plot_files = generate_plots(FOn[indices,:], POnOverRefRescaled[indices,:])
create_gif(plot_files, gif_name="output.gif", duration=0.5)

print("GIF created successfully!")








POnOverHot = POn / pHot

fig, ax, ax2 = d21.plot(FOn, POnOverHot)





IFreqTrim = np.where(
    (FOn[0, :] > d21.nu21cm - 0.5e6) &(FOn[0, :] < d21.nu21cm + 0.8e6)
)[0]


POnOverHotFmasked = POnOverHot[:,IFreqTrim]
FOnFmasked = FOn[:,IFreqTrim]


def fit_polynomial(x, y, degree):
    """
    Fit a polynomial of given degree to data (x, y).
    
    Parameters:
        x (array-like): 1D array of independent variable values.
        y (array-like): 1D array of dependent variable values.
        degree (int): Degree of the polynomial to fit.
    
    Returns:
        poly (np.poly1d): A polynomial object you can evaluate like a function.
    """
    coeffs = np.polyfit(x, y, degree)
    poly = np.poly1d(coeffs)
    return poly




iTest = 10


IFreqFit = np.where(
    (FOnFmasked[iTest, :] < d21.nu21cm - 0.2e6) |
    (FOnFmasked[iTest, :] > d21.nu21cm + 0.3e6)
)[0]


x = FOnFmasked[iTest,IFreqFit]
y = POnOverHotFmasked[iTest,IFreqFit]


# Fit a degree-5 polynomial
poly = fit_polynomial(x, y, degree=3)

# Evaluate the polynomial
y_fit = poly(x)

# Plot

plt.plot(FOnFmasked[iTest,:], POnOverHotFmasked[iTest,:], label='Data', markersize=3)
plt.plot(x, y_fit, '-', label='5th-degree fit')
plt.xlabel('Frequency (MHz)')
plt.ylabel('Power')
plt.title('Polynomial Fit at Exposure 0')
plt.legend()
plt.show()


POnOverHotBasesub = np.zeros_like(POnOverHotFmasked)

for i in range(len(FOnFmasked[:,0])):
    x = FOnFmasked[i,IFreqFit]
    y = POnOverHotFmasked[i,IFreqFit]

    # Fit a degree-5 polynomial
    poly = fit_polynomial(x, y, degree=3)
    
    # Evaluate the polynomial
    y_fit = poly(FOnFmasked[i,:])

    POnOverHotBasesub[i,:] = POnOverHotFmasked[i,:] - y_fit



fig, ax, ax2 = d21.plot(FOnFmasked, POnOverHotBasesub)





def suppress_statistical_spikes_1d(row, sigma_thresh=5.0):
    """
    Suppress spikes in a 1D array based on deviation from neighbors.

    Parameters:
        row (1D array): Input data
        sigma_thresh (float): Threshold in std deviations

    Returns:
        Cleaned 1D array
    """
    row = row.copy()
    deltas = row[1:-1] - 0.5 * (row[0:-2] + row[2:])
    std_jump = np.std(deltas)

    for j in range(1, len(row) - 1):
        delta = row[j] - 0.5 * (row[j - 1] + row[j + 1])
        if np.abs(delta) > sigma_thresh * std_jump:
            row[j] = 0.5 * (row[j - 1] + row[j + 1])
    return row


POnOverHotBasesubRFIsub = np.zeros_like(POnOverHotBasesub)

for i in range(len(FOnFmasked[:,0])):
    POnOverHotBasesubRFIsub[i,:] = suppress_statistical_spikes_1d(POnOverHotBasesub[i,:], sigma_thresh=1.0)


fig, ax, ax2 = d21.plot(FOnFmasked, POnOverHotBasesubRFIsub)








plt.figure(figsize=(12, 6))

# Plot with freq on Y and exposure time on X
plt.imshow(POnOverHot.T, aspect='auto', origin='lower', cmap='viridis', interpolation='nearest',
           extent=[expOnHours[0], expOnHours[-1], FOn[0][0], FOn[0][-1]])
plt.axhline(d21.nu21cm, color='w', linestyle='--', linewidth=1)

plt.xlabel('Exposure time (hours since first exposure)')
plt.ylabel('Frequency (MHz)')
plt.title('On / hot')
plt.colorbar(label='Power')

plt.show()


plt.figure(figsize=(12, 6))

# Plot with freq on Y and exposure time on X
plt.imshow(POnOverHotBasesub.T, aspect='auto', origin='lower', cmap='viridis', interpolation='nearest',
           extent=[expOnHours[0], expOnHours[-1], FOnFmasked[0][0], FOnFmasked[0][-1]])
plt.axhline(d21.nu21cm, color='w', linestyle='--', linewidth=1)

plt.xlabel('Exposure time (hours since first exposure)')
plt.ylabel('Frequency (MHz)')
plt.title('On / Hot, then 3rd poly subtracted')
plt.colorbar(label='Power')

plt.show()


# Function to generate individual plots
def generate_plots(FOn, POn, output_dir="temp_plots"):
    if not os.path.exists(output_dir):
        os.makedirs(output_dir)
    
    # List to store file names of each generated plot
    plot_files = []
    
    # Loop through the data and create a plot for each element
    for i, (f, p) in enumerate(zip(FOn, POn)):
        fig, ax, ax2 = d21.plot(f, p)
        ax.set_title(f"Plot {i+1}")
        ax.set_ylim(-0.002, 0.03)
        
        # Save the plot as an image
        plot_file = os.path.join(output_dir, f"plot_{i+1}.png")
        plt.savefig(plot_file)
        plot_files.append(plot_file)
        plt.close(fig)  # Close the figure to free up memory
    
    return plot_files

# Function to create a GIF from the saved plot images
def create_gif(plot_files, gif_name="output.gif", duration=0.5):
    with imageio.get_writer(gif_name, mode='I', duration=duration) as writer:
        for plot_file in plot_files:
            image = imageio.imread(plot_file)
            writer.append_data(image)
    
    # Optionally: Clean up the temporary images
#    for plot_file in plot_files:
#        os.remove(plot_file)


# Generate plots and create a GIF
plot_files = generate_plots(FOnFmasked, POnOverHotBasesub)
create_gif(plot_files, gif_name="output.gif", duration=0.5)

print("GIF created successfully!")



